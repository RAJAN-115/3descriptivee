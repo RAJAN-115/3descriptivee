{
 "cells": [
  {
   "cell_type": "code",
   "execution_count": null,
   "metadata": {},
   "outputs": [],
   "source": [
    "import pandas as pd\n",
    "\n",
    "# Load the iris dataset from a CSV file\n",
    "df = pd.read_csv('iris.csv')\n",
    "\n",
    "# Filter the dataset to include only the 'Iris-setosa', 'Iris-versicolor', and 'Iris-virginica' species\n",
    "setosa = df[df['species'] == 'Iris-setosa']\n",
    "versicolor = df[df['species'] == 'Iris-versicolor']\n",
    "virginica = df[df['species'] == 'Iris-virginica']\n",
    "\n",
    "# Display basic statistical details for each species using the describe() method\n",
    "print('Iris-setosa:')\n",
    "print(setosa.describe())\n",
    "print()\n",
    "\n",
    "print('Iris-versicolor:')\n",
    "print(versicolor.describe())\n",
    "print()\n",
    "\n",
    "print('Iris-virginica:')\n",
    "print(virginica.describe())\n"
   ]
  }
 ],
 "metadata": {
  "kernelspec": {
   "display_name": "base",
   "language": "python",
   "name": "python3"
  },
  "language_info": {
   "codemirror_mode": {
    "name": "ipython",
    "version": 3
   },
   "file_extension": ".py",
   "mimetype": "text/x-python",
   "name": "python",
   "nbconvert_exporter": "python",
   "pygments_lexer": "ipython3",
   "version": "3.10.9"
  },
  "orig_nbformat": 4
 },
 "nbformat": 4,
 "nbformat_minor": 2
}
