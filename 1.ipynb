{
 "cells": [
  {
   "cell_type": "code",
   "execution_count": null,
   "metadata": {},
   "outputs": [],
   "source": [
    "import pandas as pd\n",
    "\n",
    "# create a sample dataframe with age and income columns\n",
    "data = {'Age': [25, 32, 28, 19, 40, 55, 22, 37, 44, 31],\n",
    "        'Income': [50000, 65000, 45000, 35000, 80000, 95000, 40000, 75000, 90000, 60000],\n",
    "        'Group': ['Group A', 'Group A', 'Group B', 'Group B', 'Group C', 'Group C', 'Group A', 'Group B', 'Group C', 'Group A']}\n",
    "df = pd.DataFrame(data)\n",
    "\n",
    "# calculate summary statistics by group\n",
    "grouped_data = df.groupby('Group')['Age', 'Income'].describe()\n",
    "\n",
    "# extract mean, median, min, max, and std for income by group\n",
    "income_stats = grouped_data['Income'][['mean', '50%', 'min', 'max', 'std']].values.flatten()\n",
    "\n",
    "# print the summary statistics of income by group\n",
    "print(income_stats)\n"
   ]
  }
 ],
 "metadata": {
  "kernelspec": {
   "display_name": "base",
   "language": "python",
   "name": "python3"
  },
  "language_info": {
   "codemirror_mode": {
    "name": "ipython",
    "version": 3
   },
   "file_extension": ".py",
   "mimetype": "text/x-python",
   "name": "python",
   "nbconvert_exporter": "python",
   "pygments_lexer": "ipython3",
   "version": "3.10.9"
  },
  "orig_nbformat": 4
 },
 "nbformat": 4,
 "nbformat_minor": 2
}
